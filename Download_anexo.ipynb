{
 "cells": [
  {
   "cell_type": "code",
   "execution_count": 1,
   "id": "2f86f3a9",
   "metadata": {},
   "outputs": [
    {
     "name": "stdout",
     "output_type": "stream",
     "text": [
      "Erro ao acessar conta 'email@outlook.com': (-2147352567, 'Exceção.', (4096, 'Microsoft Outlook', 'Não é possível concluir a operação. Você não está conectado.', None, 0, -2147352567), None)\n",
      "Conectado à conta: email@outlook.com\n"
     ]
    },
    {
     "ename": "NameError",
     "evalue": "name 'conta' is not defined",
     "output_type": "error",
     "traceback": [
      "\u001b[1;31m---------------------------------------------------------------------------\u001b[0m",
      "\u001b[1;31mNameError\u001b[0m                                 Traceback (most recent call last)",
      "\u001b[1;32m~\\AppData\\Local\\Temp\\ipykernel_10968\\3813548225.py\u001b[0m in \u001b[0;36m<module>\u001b[1;34m\u001b[0m\n\u001b[0;32m     13\u001b[0m \u001b[0mprint\u001b[0m\u001b[1;33m(\u001b[0m\u001b[1;34mf\"Conectado à conta: {conta_nome}\"\u001b[0m\u001b[1;33m)\u001b[0m\u001b[1;33m\u001b[0m\u001b[1;33m\u001b[0m\u001b[0m\n\u001b[0;32m     14\u001b[0m \u001b[1;33m\u001b[0m\u001b[0m\n\u001b[1;32m---> 15\u001b[1;33m \u001b[0mcaixa_entrada\u001b[0m \u001b[1;33m=\u001b[0m \u001b[0mconta\u001b[0m\u001b[1;33m.\u001b[0m\u001b[0mFolders\u001b[0m\u001b[1;33m.\u001b[0m\u001b[0mItem\u001b[0m\u001b[1;33m(\u001b[0m\u001b[1;34m\"Caixa de Entrada\"\u001b[0m\u001b[1;33m)\u001b[0m  \u001b[1;31m# Pasta Inbox\u001b[0m\u001b[1;33m\u001b[0m\u001b[1;33m\u001b[0m\u001b[0m\n\u001b[0m\u001b[0;32m     16\u001b[0m \u001b[1;32mtry\u001b[0m\u001b[1;33m:\u001b[0m\u001b[1;33m\u001b[0m\u001b[1;33m\u001b[0m\u001b[0m\n\u001b[0;32m     17\u001b[0m     \u001b[0mpasta_reports\u001b[0m \u001b[1;33m=\u001b[0m \u001b[0mcaixa_entrada\u001b[0m\u001b[1;33m.\u001b[0m\u001b[0mFolders\u001b[0m\u001b[1;33m.\u001b[0m\u001b[0mItem\u001b[0m\u001b[1;33m(\u001b[0m\u001b[1;34m\"pasta\"\u001b[0m\u001b[1;33m)\u001b[0m  \u001b[1;31m# Subpasta\u001b[0m\u001b[1;33m\u001b[0m\u001b[1;33m\u001b[0m\u001b[0m\n",
      "\u001b[1;31mNameError\u001b[0m: name 'conta' is not defined"
     ]
    }
   ],
   "source": [
    "import os\n",
    "import win32com.client\n",
    "\n",
    "# Conectar ao Outlook\n",
    "outlook = win32com.client.Dispatch(\"Outlook.Application\").GetNamespace(\"MAPI\")\n",
    "conta_nome = \"SEU_EMAIL_AQUI\"  # Troque pelo nome da sua conta no Outlook\n",
    "conta = outlook.Folders.Item(conta_nome)\n",
    "print(f\"Conectado à conta: {conta_nome}\")\n",
    "\n",
    "caixa_entrada = conta.Folders.Item(\"Caixa de Entrada\")  # Pasta Inbox\n",
    "pasta_reports = caixa_entrada.Folders.Item(\"pasta\")  # Subpasta\n",
    "\n",
    "print(\"Subpasta 'pasta' acessada com sucesso.\")\n",
    "\n",
    "# Pasta destino dos anexos\n",
    "pasta_destino = r\"C:\\Caminho\\Path\\Arquivos\\Files\"\n",
    "if not os.path.exists(pasta_destino):\n",
    "    os.makedirs(pasta_destino)\n",
    "\n",
    "# Filtrar por e-mails não lidos\n",
    "mensagens = pasta_reports.Items\n",
    "mensagens = mensagens.Restrict(\"[Unread] = true\")\n",
    "total_mensagens = mensagens.Count\n",
    "print(f\"Você tem um total de {total_mensagens} mensagens não lidas na pasta.\")\n",
    "\n",
    "# Normalizar lista para lowercase para comparação case-insensitive\n",
    "arquivos_aceitos = [a.lower() for a in [\"ARQUIVO1\", \"ARQUIVO2\"]]\n",
    "\n",
    "# Evitar sobrescrever arquivos\n",
    "def gerar_nome_unico(caminho_base):\n",
    "    if not os.path.exists(caminho_base):\n",
    "        return caminho_base\n",
    "    base, extensao = os.path.splitext(caminho_base)\n",
    "    contador = 1\n",
    "    novo_caminho = f\"{base}.{contador}{extensao}\"\n",
    "    while os.path.exists(novo_caminho):\n",
    "        contador += 1\n",
    "        novo_caminho = f\"{base}.{contador}{extensao}\"\n",
    "    return novo_caminho\n",
    "\n",
    "# Salvar anexos PDF filtrados\n",
    "for i, mensagem in enumerate(mensagens, start=1):\n",
    "    if mensagem.Class == 43 and mensagem.Attachments.Count > 0:\n",
    "        for anexo in mensagem.Attachments:\n",
    "            nome_arquivo = anexo.FileName\n",
    "            nome_minusculo = nome_arquivo.lower()\n",
    "            if nome_minusculo.endswith(\".pdf\") and any(chave in nome_minusculo for chave in arquivos_aceitos):\n",
    "                caminho_arquivo = os.path.join(pasta_destino, nome_arquivo)\n",
    "                caminho_arquivo = gerar_nome_unico(caminho_arquivo)\n",
    "                anexo.SaveAsFile(caminho_arquivo)\n",
    "                print(f\"Mensagem {i} - Anexo PDF salvo: {os.path.basename(caminho_arquivo)}\")\n",
    "            else:\n",
    "                print(f\"Mensagem {i} - Anexo '{nome_arquivo}' ignorado (não está na lista de arquivos aceitos ou não é PDF).\")\n",
    "    else:\n",
    "        print(f\"Mensagem {i} ignorada (não é mensagem ou não tem anexos).\")\n"
   ]
  },
  {
   "cell_type": "code",
   "execution_count": null,
   "id": "46fd584b",
   "metadata": {},
   "outputs": [],
   "source": []
  },
  {
   "cell_type": "code",
   "execution_count": null,
   "id": "c3da8c57",
   "metadata": {},
   "outputs": [],
   "source": []
  }
 ],
 "metadata": {
  "kernelspec": {
   "display_name": "Python 3 (ipykernel)",
   "language": "python",
   "name": "python3"
  },
  "language_info": {
   "codemirror_mode": {
    "name": "ipython",
    "version": 3
   },
   "file_extension": ".py",
   "mimetype": "text/x-python",
   "name": "python",
   "nbconvert_exporter": "python",
   "pygments_lexer": "ipython3",
   "version": "3.9.13"
  }
 },
 "nbformat": 4,
 "nbformat_minor": 5
}
